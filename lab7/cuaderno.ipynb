{
 "cells": [
  {
   "cell_type": "code",
   "execution_count": 10,
   "metadata": {},
   "outputs": [
    {
     "name": "stdout",
     "output_type": "stream",
     "text": [
      "Writing experiencia_1.py\n"
     ]
    }
   ],
   "source": [
    "%%writefile experiencia_1.py\n",
    "import time \n",
    "import asyncio\n",
    "\n",
    "async def hacer_cafe():\n",
    "    print('Empezamos a hacer cafe')\n",
    "    await asyncio.sleep(3)\n",
    "    print('Terminamos de hacer cafe')\n",
    "    return 'Cafe listo'\n",
    "\n",
    "async def pan_palta():\n",
    "    print('Empezamos a hacer pan con palta')\n",
    "    await asyncio.sleep(2)\n",
    "    print('Terminamos de hacer pan con palta')\n",
    "    return 'Pan listo'\n",
    "\n",
    "async def main():\n",
    "    task=[hacer_cafe(),pan_palta()]\n",
    "    await asyncio.gather(*task)\n",
    "\n",
    "if __name__==\"__main__\":\n",
    "    ini = time.perf_counter()\n",
    "    #hacer_cafe()\n",
    "    #pan_palta()\n",
    "    asyncio.run(main())\n",
    "    end=time.perf_counter()\n",
    "    print(f\"Tiempo total {end-ini}\")\n",
    "    "
   ]
  },
  {
   "cell_type": "code",
   "execution_count": 12,
   "metadata": {},
   "outputs": [
    {
     "name": "stdout",
     "output_type": "stream",
     "text": [
      "Empezamos a hacer cafe\n",
      "Empezamos a hacer pan con palta\n"
     ]
    },
    {
     "name": "stdout",
     "output_type": "stream",
     "text": [
      "Terminamos de hacer pan con palta\n",
      "Terminamos de hacer cafe\n",
      "Tiempo total 3.001774202999968\n"
     ]
    }
   ],
   "source": [
    "! python3 experiencia_1.py"
   ]
  },
  {
   "cell_type": "markdown",
   "metadata": {},
   "source": [
    "EXPERIENCIA 2:"
   ]
  },
  {
   "cell_type": "code",
   "execution_count": 13,
   "metadata": {},
   "outputs": [
    {
     "name": "stdout",
     "output_type": "stream",
     "text": [
      "Defaulting to user installation because normal site-packages is not writeable\n",
      "Collecting aiohttp\n",
      "  Downloading aiohttp-3.9.5-cp310-cp310-manylinux_2_17_x86_64.manylinux2014_x86_64.whl (1.2 MB)\n",
      "\u001b[2K     \u001b[90m━━━━━━━━━━━━━━━━━━━━━━━━━━━━━━━━━━━━━━━━\u001b[0m \u001b[32m1.2/1.2 MB\u001b[0m \u001b[31m35.2 MB/s\u001b[0m eta \u001b[36m0:00:00\u001b[0m00:01\u001b[0m\n",
      "\u001b[?25hCollecting async-timeout<5.0,>=4.0\n",
      "  Downloading async_timeout-4.0.3-py3-none-any.whl (5.7 kB)\n",
      "Collecting aiosignal>=1.1.2\n",
      "  Downloading aiosignal-1.3.1-py3-none-any.whl (7.6 kB)\n",
      "Collecting frozenlist>=1.1.1\n",
      "  Downloading frozenlist-1.4.1-cp310-cp310-manylinux_2_5_x86_64.manylinux1_x86_64.manylinux_2_17_x86_64.manylinux2014_x86_64.whl (239 kB)\n",
      "\u001b[2K     \u001b[90m━━━━━━━━━━━━━━━━━━━━━━━━━━━━━━━━━━━━━━\u001b[0m \u001b[32m239.5/239.5 KB\u001b[0m \u001b[31m21.8 MB/s\u001b[0m eta \u001b[36m0:00:00\u001b[0m\n",
      "\u001b[?25hCollecting yarl<2.0,>=1.0\n",
      "  Downloading yarl-1.9.4-cp310-cp310-manylinux_2_17_x86_64.manylinux2014_x86_64.whl (301 kB)\n",
      "\u001b[2K     \u001b[90m━━━━━━━━━━━━━━━━━━━━━━━━━━━━━━━━━━━━━━\u001b[0m \u001b[32m301.6/301.6 KB\u001b[0m \u001b[31m20.1 MB/s\u001b[0m eta \u001b[36m0:00:00\u001b[0m\n",
      "\u001b[?25hCollecting multidict<7.0,>=4.5\n",
      "  Downloading multidict-6.0.5-cp310-cp310-manylinux_2_17_x86_64.manylinux2014_x86_64.whl (124 kB)\n",
      "\u001b[2K     \u001b[90m━━━━━━━━━━━━━━━━━━━━━━━━━━━━━━━━━━━━━━\u001b[0m \u001b[32m124.3/124.3 KB\u001b[0m \u001b[31m32.9 MB/s\u001b[0m eta \u001b[36m0:00:00\u001b[0m\n",
      "\u001b[?25hRequirement already satisfied: attrs>=17.3.0 in /usr/lib/python3/dist-packages (from aiohttp) (21.2.0)\n",
      "Requirement already satisfied: idna>=2.0 in /usr/lib/python3/dist-packages (from yarl<2.0,>=1.0->aiohttp) (3.3)\n",
      "Installing collected packages: multidict, frozenlist, async-timeout, yarl, aiosignal, aiohttp\n",
      "Successfully installed aiohttp-3.9.5 aiosignal-1.3.1 async-timeout-4.0.3 frozenlist-1.4.1 multidict-6.0.5 yarl-1.9.4\n"
     ]
    }
   ],
   "source": [
    "! pip install aiohttp "
   ]
  },
  {
   "cell_type": "code",
   "execution_count": 15,
   "metadata": {},
   "outputs": [
    {
     "name": "stdout",
     "output_type": "stream",
     "text": [
      "Writing experiencia_2.py\n"
     ]
    }
   ],
   "source": [
    "%%writefile experiencia_2.py\n",
    "import time \n",
    "import asyncio\n",
    "import aiohttp\n",
    "\n",
    "async def get_url(url):\n",
    "    async with aiohttp.ClientSession() as session:\n",
    "        async with session.get(url) as response:\n",
    "            status = response.status\n",
    "            status_next = response.reason\n",
    "            print(f'URL: {url}, Estado {status}, {status_next}')\n",
    "\n",
    "async def main():\n",
    "    urls = ['https://es-la.facebook.com/login/device-based/regular/login/' , 'https://www.youtube.com/results?search_query=tomate', 'https://www.instagram.com/']\n",
    "    tasks = [get_url(url) for url in urls]\n",
    "    await asyncio.gather(*tasks)\n",
    "\n",
    "\n",
    "if __name__==\"__main__\":\n",
    "    asyncio.run(main())"
   ]
  },
  {
   "cell_type": "code",
   "execution_count": 16,
   "metadata": {},
   "outputs": [
    {
     "name": "stdout",
     "output_type": "stream",
     "text": [
      "URL: https://www.youtube.com/results?search_query=tomate, Estado 200, OK\n",
      "URL: https://www.instagram.com/, Estado 200, OK\n",
      "URL: https://es-la.facebook.com/login/device-based/regular/login/, Estado 200, OK\n"
     ]
    }
   ],
   "source": [
    "! python3 experiencia_2.py"
   ]
  },
  {
   "cell_type": "markdown",
   "metadata": {},
   "source": [
    "EXPERIENCIA 3"
   ]
  },
  {
   "cell_type": "code",
   "execution_count": 19,
   "metadata": {},
   "outputs": [
    {
     "name": "stdout",
     "output_type": "stream",
     "text": [
      "Overwriting experiencia_3.py\n"
     ]
    }
   ],
   "source": [
    "%%writefile experiencia_3.py\n",
    "\n",
    "import asyncio\n",
    "import psutil \n",
    "\n",
    "async def monitorizar_recursos():\n",
    "    while True:\n",
    "        cpu_percent = psutil.cpu_percent(interval=1)\n",
    "        men_info = psutil.virtual_memory()\n",
    "        print(f\"Uso de CPU: {cpu_percent}, Uso de memoria: {men_info}\")\n",
    "        await asyncio.sleep(1)\n",
    "\n",
    "async def main():    \n",
    "    print('Monitorizar los recuersos del sistema')\n",
    "    print('Presione Crt+C para detener la monitorización')\n",
    "\n",
    "    try:\n",
    "        await monitorizar_recursos()\n",
    "    except KeyboardInterrupt:\n",
    "        print('Monitorizacion detenida')\n",
    "\n",
    "if __name__==\"__main__\":\n",
    "    asyncio.run(main())"
   ]
  },
  {
   "cell_type": "code",
   "execution_count": 22,
   "metadata": {},
   "outputs": [
    {
     "name": "stdout",
     "output_type": "stream",
     "text": [
      "Monitorizar los recuersos del sistema\n",
      "Presione Crt+C para detener la monitorización\n",
      "Uso de CPU: 2.4, Uso de memoria: svmem(total=16490135552, available=12776960000, percent=22.5, used=3306024960, free=9710452736, active=3961499648, inactive=2095968256, buffers=123478016, cached=3350179840, shared=59604992, slab=428646400)\n",
      "^C\n",
      "Traceback (most recent call last):\n",
      "  File \"/home/labtel/Documentos/lab7/experiencia_3.py\", line 22, in <module>\n",
      "    asyncio.run(main())\n",
      "  File \"/usr/lib/python3.10/asyncio/runners.py\", line 44, in run\n",
      "    return loop.run_until_complete(main)\n",
      "  File \"/usr/lib/python3.10/asyncio/base_events.py\", line 636, in run_until_complete\n",
      "    self.run_forever()\n",
      "  File \"/usr/lib/python3.10/asyncio/base_events.py\", line 603, in run_forever\n",
      "    self._run_once()\n",
      "  File \"/usr/lib/python3.10/asyncio/base_events.py\", line 1871, in _run_once\n",
      "    event_list = self._selector.select(timeout)\n",
      "  File \"/usr/lib/python3.10/selectors.py\", line 469, in select\n",
      "    fd_event_list = self._selector.poll(timeout, max_ev)\n",
      "KeyboardInterrupt\n"
     ]
    }
   ],
   "source": [
    "! python3 experiencia_3.py"
   ]
  }
 ],
 "metadata": {
  "kernelspec": {
   "display_name": "Python 3",
   "language": "python",
   "name": "python3"
  },
  "language_info": {
   "codemirror_mode": {
    "name": "ipython",
    "version": 3
   },
   "file_extension": ".py",
   "mimetype": "text/x-python",
   "name": "python",
   "nbconvert_exporter": "python",
   "pygments_lexer": "ipython3",
   "version": "3.10.12"
  }
 },
 "nbformat": 4,
 "nbformat_minor": 2
}
